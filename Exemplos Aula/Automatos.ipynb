{
 "cells": [
  {
   "cell_type": "markdown",
   "id": "5a6586f8",
   "metadata": {},
   "source": [
    "# L = {w in {a,b}* | w tem número par de 'A's}\n",
    "<br>\n",
    "<img src='img/AFD1.png'>"
   ]
  },
  {
   "cell_type": "code",
   "execution_count": 4,
   "id": "a6c260de",
   "metadata": {},
   "outputs": [
    {
     "name": "stdout",
     "output_type": "stream",
     "text": [
      "Digite a cadeia: abbabbababa\n",
      "Cadeia \"abbabbababa\" reconhecida?:False\n"
     ]
    }
   ],
   "source": [
    "def main():\n",
    "    transicao = {\n",
    "        0:{'a':1, 'b':0},\n",
    "        1:{'a':0, 'b':1},\n",
    "    }\n",
    "    \n",
    "    w = input('Digite a cadeia: ')\n",
    "    estado = 0\n",
    "    \n",
    "    for simbolo in w:\n",
    "        estado = transicao[estado][simbolo]\n",
    "        \n",
    "    F = {0} #estado final q0 não q1 como na imagem\n",
    "    print(f'Cadeia \"{w}\" reconhecida?:{estado in F}')\n",
    "\n",
    "main()"
   ]
  },
  {
   "cell_type": "markdown",
   "id": "9865cf1d",
   "metadata": {},
   "source": [
    "# L = {w in {0,1}* | a sequência 001 é parte de w}\n",
    "<br>\n",
    "<img src='img/AFD2.png'>"
   ]
  },
  {
   "cell_type": "code",
   "execution_count": 14,
   "id": "eab95e23",
   "metadata": {},
   "outputs": [
    {
     "name": "stdout",
     "output_type": "stream",
     "text": [
      "Digite a cadeia: 001\n",
      "Cadeia \"001\" reconhecida?:True\n"
     ]
    }
   ],
   "source": [
    "def main():\n",
    "    transicao = {\n",
    "        0:{'0':1, '1':0},\n",
    "        1:{'0':2, '1':0},\n",
    "        2:{'0':2, '1':3},\n",
    "        3:{'0':3, '1':3},\n",
    "    }\n",
    "    \n",
    "    w = str(input('Digite a cadeia: '))\n",
    "    estado = 0\n",
    "    \n",
    "    for simbolo in w:\n",
    "        estado = transicao[estado][simbolo]\n",
    "        \n",
    "    F = {3} #estado final\n",
    "    print(f'Cadeia \"{w}\" reconhecida?:{estado in F}')\n",
    "\n",
    "main()"
   ]
  },
  {
   "cell_type": "markdown",
   "id": "90947bf1",
   "metadata": {},
   "source": [
    "## L = {w in {a,b}* | w possui número par de 'a's e impares de 'b's}\n",
    "<br>\n",
    "<img src='img/AFD3.png'>"
   ]
  },
  {
   "cell_type": "code",
   "execution_count": 17,
   "id": "e49aeeca",
   "metadata": {},
   "outputs": [
    {
     "name": "stdout",
     "output_type": "stream",
     "text": [
      "Digite a cadeia: aaabbb\n",
      "Cadeia \"aaabbb\" reconhecida?:False\n"
     ]
    }
   ],
   "source": [
    "def main():\n",
    "    transicao = {\n",
    "        0:{'a':2, 'b':1},\n",
    "        1:{'a':3, 'b':0},\n",
    "        2:{'a':0, 'b':3},\n",
    "        3:{'a':1, 'b':2},\n",
    "    }\n",
    "    \n",
    "    w = input('Digite a cadeia: ')\n",
    "    estado = 0\n",
    "    \n",
    "    for simbolo in w:\n",
    "        estado = transicao[estado][simbolo]\n",
    "        \n",
    "    F = {1} #estado final \n",
    "    print(f'Cadeia \"{w}\" reconhecida?:{estado in F}')\n",
    "\n",
    "main()"
   ]
  },
  {
   "cell_type": "code",
   "execution_count": null,
   "id": "d3e19ef0",
   "metadata": {},
   "outputs": [],
   "source": []
  }
 ],
 "metadata": {
  "kernelspec": {
   "display_name": "Python 3 (ipykernel)",
   "language": "python",
   "name": "python3"
  },
  "language_info": {
   "codemirror_mode": {
    "name": "ipython",
    "version": 3
   },
   "file_extension": ".py",
   "mimetype": "text/x-python",
   "name": "python",
   "nbconvert_exporter": "python",
   "pygments_lexer": "ipython3",
   "version": "3.8.5"
  }
 },
 "nbformat": 4,
 "nbformat_minor": 5
}
